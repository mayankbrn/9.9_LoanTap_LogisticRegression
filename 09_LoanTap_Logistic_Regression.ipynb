{
  "nbformat": 4,
  "nbformat_minor": 0,
  "metadata": {
    "colab": {
      "provenance": [],
      "toc_visible": true,
      "authorship_tag": "ABX9TyNf34zedWdFEp0dQ/Hbd+jW",
      "include_colab_link": true
    },
    "kernelspec": {
      "name": "python3",
      "display_name": "Python 3"
    },
    "language_info": {
      "name": "python"
    }
  },
  "cells": [
    {
      "cell_type": "markdown",
      "metadata": {
        "id": "view-in-github",
        "colab_type": "text"
      },
      "source": [
        "<a href=\"https://colab.research.google.com/github/mayankbrn/9.9_LoanTap_LogisticRegression/blob/main/09_LoanTap_Logistic_Regression.ipynb\" target=\"_parent\"><img src=\"https://colab.research.google.com/assets/colab-badge.svg\" alt=\"Open In Colab\"/></a>"
      ]
    },
    {
      "cell_type": "markdown",
      "source": [
        "# LoanTap Logistic Regression"
      ],
      "metadata": {
        "id": "ReTX2wyjnAp-"
      }
    },
    {
      "cell_type": "markdown",
      "source": [
        "## About the Challenge"
      ],
      "metadata": {
        "id": "Xjy-GZBBpY7Q"
      }
    },
    {
      "cell_type": "markdown",
      "source": [
        "### Context"
      ],
      "metadata": {
        "id": "cBHtuXZ1nXHu"
      }
    },
    {
      "cell_type": "markdown",
      "source": [
        "LoanTap is an online platform committed to delivering customized loan products to millennials. They innovate in an otherwise dull loan segment, to deliver instant, flexible loans on consumer friendly terms to salaried professionals and businessmen.\n",
        "\n",
        "The data science team at LoanTap is building an underwriting layer to determine the creditworthiness of MSMEs as well as individuals."
      ],
      "metadata": {
        "id": "7DjY61jPnZtS"
      }
    },
    {
      "cell_type": "markdown",
      "source": [
        "### How can we help LoanTap ?"
      ],
      "metadata": {
        "id": "nCB0RIrOne60"
      }
    },
    {
      "cell_type": "markdown",
      "source": [
        "LoanTap deploys formal credit to salaried individuals and businesses 4 main financial instruments:\n",
        "\n",
        "Personal Loan\n",
        "EMI Free Loan\n",
        "Personal Overdraft\n",
        "Advance Salary Loan\n",
        "This case study will focus on the underwriting process behind Personal Loan only"
      ],
      "metadata": {
        "id": "wBTueSVNnakP"
      }
    },
    {
      "cell_type": "markdown",
      "source": [
        "### Problem Statement"
      ],
      "metadata": {
        "id": "6rJd98t2viez"
      }
    },
    {
      "cell_type": "markdown",
      "source": [
        "Given a set of attributes for an Individual, determine if a credit line should be extended to them. If so, what should the repayment terms be in business recommendations?\n"
      ],
      "metadata": {
        "id": "nuccKqEnvkB8"
      }
    },
    {
      "cell_type": "markdown",
      "source": [
        "### Dataset"
      ],
      "metadata": {
        "id": "022BQKRRnilt"
      }
    },
    {
      "cell_type": "markdown",
      "source": [
        "[DataSet Link](https://drive.google.com/file/d/19FfBWDPhDPlc-1FzA50HVfoiMXmYdBUH/view?usp=sharing)"
      ],
      "metadata": {
        "id": "jBaGa66Enju9"
      }
    },
    {
      "cell_type": "markdown",
      "source": [
        "### Column Profiling"
      ],
      "metadata": {
        "id": "u110JtEunsjz"
      }
    },
    {
      "cell_type": "markdown",
      "source": [
        "- **loan_amnt**: The amount of the loan applied for by the borrower. If the credit department reduces the loan amount, it is reflected in this value.\n",
        "- **term**: Number of payments on the loan in months (either 36 or 60).\n",
        "- **int_rate**: Interest rate on the loan.\n",
        "- **installment**: The monthly payment the borrower owes if the loan is originated.\n",
        "- **grade**: Loan grade assigned by LoanTap.\n",
        "- **sub_grade**: Loan subgrade assigned by LoanTap.\n",
        "- **emp_title**: Job title provided by the borrower when applying for the loan.\n",
        "- **emp_length**: Employment length in years, ranging from 0 (less than one year) to 10 (ten or more years).\n",
        "- **home_ownership**: Home ownership status provided by the borrower during registration or from the credit report.\n",
        "- **annual_inc**: Self-reported annual income provided by the borrower during registration.\n",
        "- **verification_status**: Indicates if income was verified by LoanTap, not verified, or if the income source was verified.\n",
        "- **issue_d**: The month the loan was funded.\n",
        "- **loan_status**: Current status of the loan (Target Variable).\n",
        "- **purpose**: Category of the loan request provided by the borrower.\n",
        "- **title**: Loan title provided by the borrower.\n",
        "- **dti**: Debt-to-income ratio, calculated using the borrower’s total monthly debt payments (excluding mortgage and the requested LoanTap loan), divided by the borrower’s self-reported monthly income.\n",
        "- **earliest_cr_line**: Month the borrower's earliest reported credit line was opened.\n",
        "- **open_acc**: Number of open credit lines in the borrower's credit file.\n",
        "- **pub_rec**: Number of derogatory public records.\n",
        "- **revol_bal**: Total revolving credit balance.\n",
        "- **revol_util**: Revolving line utilization rate, or the amount of credit the borrower is using relative to available revolving credit.\n",
        "- **total_acc**: Total number of credit lines currently in the borrower's credit file.\n",
        "- **initial_list_status**: Initial listing status of the loan (values: W, F).\n",
        "- **application_type**: Indicates whether the loan is an individual or joint application.\n",
        "- **mort_acc**: Number of mortgage accounts.\n",
        "- **pub_rec_bankruptcies**: Number of public record bankruptcies.\n",
        "- **address**: Address of the individual.\n"
      ],
      "metadata": {
        "id": "OTxgxS4ToCKT"
      }
    },
    {
      "cell_type": "markdown",
      "source": [
        "### Concepts Used"
      ],
      "metadata": {
        "id": "jzTO2-BIoL7x"
      }
    },
    {
      "cell_type": "markdown",
      "source": [
        "- Exploratory Data Analysis\n",
        "- Feature Engineering\n",
        "- Logistic Regression\n",
        "- Precision Vs Recall Tradeoff\n"
      ],
      "metadata": {
        "id": "RBsJlqdgoPaS"
      }
    },
    {
      "cell_type": "markdown",
      "source": [
        "### What does good looks like?"
      ],
      "metadata": {
        "id": "HJnLxaswoV7H"
      }
    },
    {
      "cell_type": "markdown",
      "source": [
        "## Analysis and Modeling Steps\n",
        "\n",
        "1. **Data Import & Initial Analysis**:\n",
        "   - Import the dataset and perform exploratory data analysis, examining the structure and characteristics of the dataset.\n",
        "\n",
        "2. **Target Variable Analysis**:\n",
        "   - Analyze the dependency of the target variable (`Loan_Status`) on predictor variables using visualizations (count plots, box plots, heatmaps, etc.).\n",
        "\n",
        "3. **Correlation Analysis**:\n",
        "   - Check the correlation among independent variables to understand their interactions.\n",
        "\n",
        "4. **Feature Engineering**:\n",
        "   - Create flags for specific columns where values above 1.0 are set to 1, otherwise 0:\n",
        "     - **Pub_rec**\n",
        "     - **Mort_acc**\n",
        "     - **Pub_rec_bankruptcies**\n",
        "\n",
        "5. **Data Cleaning**:\n",
        "   - Treat missing values and outliers.\n",
        "\n",
        "6. **Scaling**:\n",
        "   - Apply scaling using either MinMaxScaler or StandardScaler.\n",
        "\n",
        "7. **Modeling**:\n",
        "   - Use a Logistic Regression model from Sklearn or Statsmodel library and explain the results.\n",
        "\n",
        "8. **Results Evaluation**:\n",
        "   - Evaluate the model using:\n",
        "     - **Classification Report**\n",
        "     - **ROC AUC Curve**\n",
        "     - **Precision-Recall Curve**\n",
        "\n",
        "9. **Tradeoff Considerations**:\n",
        "   - **Balancing Detection and False Positives**: How to ensure the model accurately detects defaulters while minimizing false positives. This is crucial to prevent lost financing opportunities.\n",
        "   - **NPA Risks**: Given the risks of non-performing assets, it’s essential to minimize loans issued to likely defaulters to reduce financial risk.\n",
        "\n",
        "10. **Insights & Recommendations**:\n",
        "    - Provide actionable insights and recommendations based on the analysis and model results.\n"
      ],
      "metadata": {
        "id": "dEoewRkhostl"
      }
    },
    {
      "cell_type": "markdown",
      "source": [
        "### Evaluation Criteria (100 points):"
      ],
      "metadata": {
        "id": "1Loc8y-hoxqj"
      }
    },
    {
      "cell_type": "markdown",
      "source": [
        "### 1. Problem Definition and Exploratory Data Analysis (10 Points)\n",
        "   - **Problem Statement**: Define the problem based on the provided statement, with additional perspectives if relevant.\n",
        "   - **Data Overview**: Observe data shape, attribute data types, conversion of categorical attributes to 'category' type (if needed), detect missing values, and generate a statistical summary.\n",
        "   - **Univariate Analysis**: Plot distribution of continuous variables and use barplots/countplots for categorical variables.\n",
        "   - **Bivariate Analysis**: Explore relationships between key variables.\n",
        "   - **Insights**: Summarize key insights from EDA, including:\n",
        "     - Attribute ranges and detection of outliers.\n",
        "     - Variable distribution characteristics and relationships.\n",
        "     - Observations from each univariate and bivariate plot.\n",
        "\n",
        "### 2. Data Preprocessing (20 Points)\n",
        "   - **Duplicate Check**: Identify and remove duplicate values.\n",
        "   - **Missing Values**: Treat missing values appropriately.\n",
        "   - **Outlier Treatment**: Address outliers in the dataset.\n",
        "   - **Feature Engineering**: Develop new features as needed.\n",
        "   - **Data Preparation**: Prepare data for modeling.\n",
        "\n",
        "### 3. Model Building (10 Points)\n",
        "   - **Logistic Regression Model**: Build the model and analyze model statistics.\n",
        "   - **Coefficients**: Display model coefficients with respective column names.\n",
        "\n",
        "### 4. Results Evaluation (50 Points)\n",
        "   - **ROC AUC Curve & Analysis** (10 Points)\n",
        "   - **Precision-Recall Curve & Analysis** (10 Points)\n",
        "   - **Classification Report**: Generate and analyze the confusion matrix and other metrics (10 Points).\n",
        "   - **Tradeoff Questions**:\n",
        "     - **Defaulter Detection and False Positives**: How can the model detect actual defaulters while minimizing false positives? Reducing false positives is crucial to avoid missed financing opportunities (10 Points).\n",
        "     - **NPA Risk Management**: Since NPAs (non-performing assets) pose a major risk, ensure the model minimizes loan disbursement to high-risk borrowers (10 Points).\n",
        "\n",
        "### 5. Actionable Insights & Recommendations (10 Points)\n",
        "   - Provide actionable insights based on the model results and suggest recommendations for improving model deployment, risk assessment, and lending strategies."
      ],
      "metadata": {
        "id": "dYgMmWMmo-LO"
      }
    },
    {
      "cell_type": "markdown",
      "source": [
        "### Questionnare"
      ],
      "metadata": {
        "id": "2q9djqoixSGu"
      }
    },
    {
      "cell_type": "markdown",
      "source": [
        "\n",
        "1. **Percentage of Fully Paid Loans**:\n",
        "   - Calculate the percentage of customers who have fully paid their loan amount.\n",
        "\n",
        "2. **Correlation Analysis**:\n",
        "   - Comment on the correlation between `Loan Amount` and `Installment` features.\n",
        "\n",
        "3. **Home Ownership**:\n",
        "   - The majority of customers have home ownership as **[insert most common category here]**.\n",
        "\n",
        "4. **Loan Grade and Payment Likelihood**:\n",
        "   - People with grades ‘A’ are more likely to fully pay their loan. **(True/False)**\n",
        "\n",
        "5. **Top Job Titles**:\n",
        "   - The top 2 afforded job titles are **[insert top job title 1]** and **[insert top job title 2]**.\n",
        "\n",
        "6. **Primary Focus Metric**:\n",
        "   - From a bank’s perspective, the primary metric to focus on should be:\n",
        "     - **ROC AUC**\n",
        "     - **Precision**\n",
        "     - **Recall**\n",
        "     - **F1 Score**\n",
        "\n",
        "7. **Precision-Recall Tradeoff**:\n",
        "   - The gap in precision and recall affects the bank by **[explain how the difference impacts loan approval and risk assessment]**.\n",
        "\n",
        "8. **Influential Features**:\n",
        "   - The features that heavily affected the outcome are **[list key influential features]**.\n",
        "\n",
        "9. **Geographical Impact**:\n",
        "   - Will the results be affected by geographical location? **(Yes/No)**\n"
      ],
      "metadata": {
        "id": "C9MYXoroxT1b"
      }
    },
    {
      "cell_type": "markdown",
      "source": [
        "## Solution ▶"
      ],
      "metadata": {
        "id": "2_x0pSaQpm0I"
      }
    }
  ]
}